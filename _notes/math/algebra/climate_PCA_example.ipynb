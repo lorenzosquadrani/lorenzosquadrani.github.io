{
 "cells": [
  {
   "cell_type": "markdown",
   "id": "101430cf",
   "metadata": {},
   "source": [
    "I reproduce below, for learning purposes, the analysis from this amazing tutorial: https://kls2177.github.io/Climate-and-Geophysical-Data-Analysis/chapters/Week7/Intro_to_PCA.html.\n",
    "\n",
    "We will look at sea surface temperature (SST) data in the tropical Pacific ocean, and we will find that PCA reveals the signature of the El Niño / Southern Oscillation (ENSO) phenomenon without any prior knowledge of ENSO.\n",
    "I have no idea what this means for the moment, hopefully it will be clear later.\n",
    "\n",
    "The ENSO is a major climate pattern involving periodic changes in SSTs across the tropical Pacific Ocean. It has powerful effects on global weather, ocean conditions, and climate patterns."
   ]
  },
  {
   "cell_type": "code",
   "execution_count": null,
   "id": "d0e7737a",
   "metadata": {},
   "outputs": [],
   "source": [
    "import numpy as np\n",
    "import matplotlib.pyplot as plt\n",
    "import matplotlib as mpl\n",
    "\n",
    "mpl.rc('font', size=14)"
   ]
  },
  {
   "cell_type": "code",
   "execution_count": null,
   "id": "85d0bbfd",
   "metadata": {},
   "outputs": [],
   "source": []
  }
 ],
 "metadata": {
  "kernelspec": {
   "display_name": "default",
   "language": "python",
   "name": "python3"
  },
  "language_info": {
   "name": "python",
   "version": "3.11.2"
  }
 },
 "nbformat": 4,
 "nbformat_minor": 5
}
